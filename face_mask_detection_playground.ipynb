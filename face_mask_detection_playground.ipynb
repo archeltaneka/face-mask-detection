{
 "cells": [
  {
   "cell_type": "code",
   "execution_count": 12,
   "metadata": {},
   "outputs": [],
   "source": [
    "import numpy as np\n",
    "import pickle\n",
    "import cv2\n",
    "import torch\n",
    "import torch.nn as nn\n",
    "import torch.nn.functional as F\n",
    "import matplotlib.pyplot as plt\n",
    "\n",
    "from torchvision import transforms, models\n",
    "from bs4 import BeautifulSoup\n",
    "from glob import glob\n",
    "\n",
    "%matplotlib inline"
   ]
  },
  {
   "cell_type": "code",
   "execution_count": 13,
   "metadata": {},
   "outputs": [],
   "source": [
    "annotations = glob('./data/annotations/*.xml')\n",
    "\n",
    "labels = []\n",
    "bounding_boxes = []\n",
    "img_paths = []\n",
    "n_masks = []\n",
    "\n",
    "for a in annotations:\n",
    "    with open(a, 'rb') as f:\n",
    "        content = f.read()\n",
    "\n",
    "    soup = BeautifulSoup(content, 'xml')\n",
    "\n",
    "    filename = soup.find('filename').text\n",
    "    objects = soup.find_all('object')\n",
    "    n = 0\n",
    "    for o in objects:\n",
    "        name = o.find('name').text\n",
    "        xmin = int(o.find('xmin').text)\n",
    "        xmax = int(o.find('xmax').text)\n",
    "        ymin = int(o.find('ymin').text)\n",
    "        ymax = int(o.find('ymax').text)\n",
    "\n",
    "        labels.append(name)\n",
    "        bounding_boxes.append([xmin, ymin, xmax, ymax])\n",
    "\n",
    "        n = n + 1\n",
    "\n",
    "    img_paths.append(filename)\n",
    "    n_masks.append(n)"
   ]
  },
  {
   "cell_type": "code",
   "execution_count": 22,
   "metadata": {},
   "outputs": [
    {
     "data": {
      "text/plain": [
       "[185, 100, 226, 144]"
      ]
     },
     "execution_count": 22,
     "metadata": {},
     "output_type": "execute_result"
    }
   ],
   "source": [
    "bounding_boxes[1]"
   ]
  },
  {
   "cell_type": "code",
   "execution_count": 23,
   "metadata": {},
   "outputs": [],
   "source": [
    "BASE = './data/images/'\n",
    "faces = []\n",
    "j = 0\n",
    "\n",
    "for i in range(len(img_paths)):\n",
    "    full_path = BASE + img_paths[i]\n",
    "    img = cv2.imread(full_path)\n",
    "    img = cv2.cvtColor(img, cv2.COLOR_BGR2RGB)\n",
    "    \n",
    "    while(j < len(bounding_boxes)):\n",
    "        for k in range(n_masks[i]):\n",
    "            face = img[bounding_boxes[j][1]:bounding_boxes[j][3], bounding_boxes[j][0]:bounding_boxes[j][2]]\n",
    "            faces.append(face)\n",
    "        \n",
    "            j += 1\n",
    "            \n",
    "        break"
   ]
  },
  {
   "cell_type": "code",
   "execution_count": 26,
   "metadata": {},
   "outputs": [
    {
     "data": {
      "image/png": "[encoded data removed]",
      "text/plain": [
       "<Figure size 432x288 with 1 Axes>"
      ]
     },
     "metadata": {
      "needs_background": "light"
     },
     "output_type": "display_data"
    }
   ],
   "source": [
    "idx = 20\n",
    "\n",
    "plt.imshow(faces[idx])\n",
    "plt.title(labels[idx])\n",
    "plt.show()"
   ]
  },
  {
   "cell_type": "code",
   "execution_count": null,
   "metadata": {},
   "outputs": [],
   "source": []
  }
 ],
 "metadata": {
  "kernelspec": {
   "display_name": "Python 3",
   "language": "python",
   "name": "python3"
  },
  "language_info": {
   "codemirror_mode": {
    "name": "ipython",
    "version": 3
   },
   "file_extension": ".py",
   "mimetype": "text/x-python",
   "name": "python",
   "nbconvert_exporter": "python",
   "pygments_lexer": "ipython3",
   "version": "3.8.5"
  }
 },
 "nbformat": 4,
 "nbformat_minor": 4
}
